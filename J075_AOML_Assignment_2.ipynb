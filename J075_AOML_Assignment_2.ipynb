{
 "cells": [
  {
   "cell_type": "code",
   "execution_count": 5,
   "id": "41af082e",
   "metadata": {},
   "outputs": [
    {
     "name": "stdout",
     "output_type": "stream",
     "text": [
      "Classification Report:\n",
      "               precision    recall  f1-score   support\n",
      "\n",
      "           0       0.98      0.99      0.98     11889\n",
      "           1       0.97      0.93      0.95      3792\n",
      "           2       0.99      1.00      1.00      4319\n",
      "\n",
      "    accuracy                           0.98     20000\n",
      "   macro avg       0.98      0.97      0.98     20000\n",
      "weighted avg       0.98      0.98      0.98     20000\n",
      "\n"
     ]
    },
    {
     "data": {
      "image/png": "[encoded data removed]",
      "text/plain": [
       "<Figure size 800x600 with 2 Axes>"
      ]
     },
     "metadata": {},
     "output_type": "display_data"
    }
   ],
   "source": [
    "import pandas as pd\n",
    "import numpy as np\n",
    "import matplotlib.pyplot as plt\n",
    "import seaborn as sns\n",
    "from sklearn.model_selection import StratifiedShuffleSplit\n",
    "from sklearn.ensemble import RandomForestClassifier\n",
    "from sklearn.metrics import classification_report, confusion_matrix\n",
    "from sklearn.preprocessing import LabelEncoder\n",
    "\n",
    "# Load Stellar Classification Dataset\n",
    "df_stellar = pd.read_csv(\"C:/Users/Yatha/OneDrive/Documents/Sem VI/AOML/StarClassificationDataset.csv\", low_memory=False)\n",
    "\n",
    "# Identify the target column\n",
    "target_column = \"class\"\n",
    "\n",
    "# Convert categorical target to numeric\n",
    "le = LabelEncoder()\n",
    "df_stellar[target_column] = le.fit_transform(df_stellar[target_column])\n",
    "\n",
    "# Drop irrelevant columns (keep only numerical features)\n",
    "drop_columns = [\"object_ID\", \"spec_obj_ID\", \"plate_ID\", \"fiber_ID\", \"MJD\", \"rerun_ID\"]\n",
    "df_stellar.drop(columns=drop_columns, inplace=True)\n",
    "\n",
    "# Handle missing or non-numeric values\n",
    "X_stellar = df_stellar.drop(columns=[target_column])\n",
    "X_stellar = X_stellar.apply(pd.to_numeric, errors='coerce')  # Convert to numeric\n",
    "X_stellar.fillna(X_stellar.median(), inplace=True)  # Fill missing values\n",
    "\n",
    "# Target variable\n",
    "y_stellar = df_stellar[target_column]\n",
    "\n",
    "# Stratified Split\n",
    "sss = StratifiedShuffleSplit(n_splits=1, test_size=0.2, random_state=42)\n",
    "for train_index, test_index in sss.split(X_stellar, y_stellar):\n",
    "    X_train_stellar, X_test_stellar = X_stellar.iloc[train_index], X_stellar.iloc[test_index]\n",
    "    y_train_stellar, y_test_stellar = y_stellar.iloc[train_index], y_stellar.iloc[test_index]\n",
    "\n",
    "# Train a Classification Model\n",
    "clf = RandomForestClassifier(n_estimators=100, random_state=42)\n",
    "clf.fit(X_train_stellar, y_train_stellar)\n",
    "y_pred_stellar = clf.predict(X_test_stellar)\n",
    "\n",
    "# Classification Report & Findings\n",
    "print(\"Classification Report:\\n\", classification_report(y_test_stellar, y_pred_stellar))\n",
    "\n",
    "# Confusion Matrix\n",
    "plt.figure(figsize=(8, 6))\n",
    "sns.heatmap(confusion_matrix(y_test_stellar, y_pred_stellar), annot=True, fmt='d', cmap='Blues')\n",
    "plt.xlabel(\"Predicted\")\n",
    "plt.ylabel(\"Actual\")\n",
    "plt.title(\"Confusion Matrix - Stellar Classification\")\n",
    "plt.show()"
   ]
  },
  {
   "cell_type": "code",
   "execution_count": 6,
   "id": "69daf47f",
   "metadata": {
    "scrolled": true
   },
   "outputs": [],
   "source": [
    "from sklearn.impute import SimpleImputer\n",
    "from sklearn.linear_model import Ridge, Lasso\n",
    "from sklearn.model_selection import train_test_split\n",
    "from sklearn.metrics import mean_absolute_error, mean_squared_error\n",
    "import pandas as pd\n",
    "import numpy as np\n",
    "import math\n",
    "\n",
    "# Load the dataset (California Housing Prices)\n",
    "df_housing = pd.read_csv(\"C:/Users/Yatha/OneDrive/Documents/Sem VI/AOML/housing.csv\")\n",
    "\n",
    "# Check for missing values\n",
    "df_housing.isnull().sum()\n",
    "\n",
    "# Handle categorical columns (e.g., 'ocean_proximity') using One-Hot Encoding\n",
    "df_housing = pd.get_dummies(df_housing, drop_first=True)\n",
    "\n",
    "# We need to create bins for the target variable (price) using Sturge's Rule\n",
    "n = len(df_housing)\n",
    "k = int(1 + math.log2(n))  # Sturge’s rule\n",
    "df_housing['price_bin'] = pd.cut(df_housing['median_house_value'], bins=k)\n",
    "\n",
    "# Stratified Split\n",
    "X_housing = df_housing.drop(columns=['median_house_value', 'price_bin'])\n",
    "y_housing = df_housing['median_house_value']\n",
    "X_train_housing, X_test_housing, y_train_housing, y_test_housing = train_test_split(\n",
    "    X_housing, y_housing, test_size=0.2, stratify=df_housing['price_bin'], random_state=42)\n",
    "\n",
    "# Impute missing values (use the median strategy)\n",
    "imputer = SimpleImputer(strategy='median')\n",
    "X_train_housing = imputer.fit_transform(X_train_housing)\n",
    "X_test_housing = imputer.transform(X_test_housing)\n",
    "\n",
    "# Train a Ridge Regression model\n",
    "ridge_model = Ridge()\n",
    "ridge_model.fit(X_train_housing, y_train_housing)\n",
    "y_pred_ridge = ridge_model.predict(X_test_housing)\n",
    "\n",
    "# Train a Lasso Regression model\n",
    "lasso_model = Lasso()\n",
    "lasso_model.fit(X_train_housing, y_train_housing)\n",
    "y_pred_lasso = lasso_model.predict(X_test_housing)\n",
    "\n",
    "# Evaluate the models using MAE, MSE, and RMSE\n",
    "def evaluate_model(y_true, y_pred):\n",
    "    mae = mean_absolute_error(y_true, y_pred)\n",
    "    mse = mean_squared_error(y_true, y_pred)\n",
    "    rmse = np.sqrt(mse)\n",
    "    return mae, mse, rmse\n",
    "\n",
    "# Ridge model evaluation\n",
    "ridge_mae, ridge_mse, ridge_rmse = evaluate_model(y_test_housing, y_pred_ridge)\n",
    "\n",
    "# Lasso model evaluation\n",
    "lasso_mae, lasso_mse, lasso_rmse = evaluate_model(y_test_housing, y_pred_lasso)"
   ]
  },
  {
   "cell_type": "code",
   "execution_count": 7,
   "id": "92a66c9c",
   "metadata": {},
   "outputs": [
    {
     "name": "stdout",
     "output_type": "stream",
     "text": [
      "\n",
      "Evaluation Metrics Comparison:\n",
      "Metric     Ridge        Lasso        Better Model\n",
      "==================================================\n",
      "MAE        49614.08     49611.16     Lasso\n",
      "MSE        4707492083.67 4707438560.85 Lasso\n",
      "RMSE       68611.17     68610.78     Lasso\n"
     ]
    }
   ],
   "source": [
    "metrics = {\n",
    "    \"Metric\": [\"MAE\", \"MSE\", \"RMSE\"],\n",
    "    \"Ridge\": [ridge_mae, ridge_mse, ridge_rmse],\n",
    "    \"Lasso\": [lasso_mae, lasso_mse, lasso_rmse],\n",
    "}\n",
    "\n",
    "df_metrics = pd.DataFrame(metrics)\n",
    "\n",
    "# Add a column to compare which model is better\n",
    "def better_model(row):\n",
    "    if row[\"Ridge\"] < row[\"Lasso\"]:\n",
    "        return \"Ridge\"\n",
    "    elif row[\"Ridge\"] > row[\"Lasso\"]:\n",
    "        return \"Lasso\"\n",
    "    else:\n",
    "        return \"Equal\"\n",
    "\n",
    "df_metrics[\"Better Model\"] = df_metrics.apply(better_model, axis=1)\n",
    "\n",
    "# Display the metrics in a table with improved spacing\n",
    "print(\"\\nEvaluation Metrics Comparison:\")\n",
    "print(f\"{'Metric':<10} {'Ridge':<12} {'Lasso':<12} {'Better Model'}\")\n",
    "print(\"=\"*50)\n",
    "\n",
    "# Print each row with proper alignment\n",
    "for index, row in df_metrics.iterrows():\n",
    "    print(f\"{row['Metric']:<10} {row['Ridge']:<12.2f} {row['Lasso']:<12.2f} {row['Better Model']}\")"
   ]
  },
  {
   "cell_type": "code",
   "execution_count": null,
   "id": "ef17302a",
   "metadata": {},
   "outputs": [],
   "source": []
  }
 ],
 "metadata": {
  "kernelspec": {
   "display_name": "Python 3",
   "language": "python",
   "name": "python3"
  },
  "language_info": {
   "codemirror_mode": {
    "name": "ipython",
    "version": 3
   },
   "file_extension": ".py",
   "mimetype": "text/x-python",
   "name": "python",
   "nbconvert_exporter": "python",
   "pygments_lexer": "ipython3",
   "version": "3.11.5"
  }
 },
 "nbformat": 4,
 "nbformat_minor": 5
}
